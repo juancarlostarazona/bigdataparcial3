{
  "nbformat": 4,
  "nbformat_minor": 0,
  "metadata": {
    "colab": {
      "provenance": []
    },
    "kernelspec": {
      "name": "python3",
      "display_name": "Python 3"
    },
    "language_info": {
      "name": "python"
    }
  },
  "cells": [
    {
      "cell_type": "code",
      "execution_count": 5,
      "metadata": {
        "colab": {
          "base_uri": "https://localhost:8080/"
        },
        "id": "QxkL_XpIMIHY",
        "outputId": "d5ac1a39-9529-4a60-f1ea-b9a632d4d0fc"
      },
      "outputs": [
        {
          "output_type": "stream",
          "name": "stdout",
          "text": [
            "/images/branding/searchlogo/1x/googlelogo_desk_heirloom_color_150x55dp.gif\n",
            "https://encrypted-tbn0.gstatic.com/images?q=tbn:ANd9GcQZlk88ug2u8_sWSDBqpU4rpGbA3oXLOXMb7vt8IG-szRFjd9Ql2JrP23-EYw&s\n",
            "https://encrypted-tbn0.gstatic.com/images?q=tbn:ANd9GcQUY9Xj4ustRsJir2raOvtPUEweiZ839313I6iJUdA_rc5-o2iuomS2nLvVdwQ&s\n",
            "https://encrypted-tbn0.gstatic.com/images?q=tbn:ANd9GcTJjld2Hi-Tzty61datWh4Pag0XVl0kleDPbhieTqT9o0jtl3sDgvWo7exb3Q&s\n",
            "https://encrypted-tbn0.gstatic.com/images?q=tbn:ANd9GcRd877DXKYJz_k9EV4QGOQfsZSDZCWdYxXTTO9kdVKQFFw3YO3qsGI5fxW7Gw0&s\n",
            "https://encrypted-tbn0.gstatic.com/images?q=tbn:ANd9GcRi-2Mxt02p_kerfnwVVixUn9WrX7Zb9Y8mGw1h53MkPdGtJG1zrbWun6f2mw&s\n",
            "https://encrypted-tbn0.gstatic.com/images?q=tbn:ANd9GcQJIMDbzfUEM4J09Xr2D2snnzbhr2gI7OIvkVdNjcPASXGMBeLHisKgjW-6qT0&s\n",
            "https://encrypted-tbn0.gstatic.com/images?q=tbn:ANd9GcS-rFpQgFupO90X2zCEcDmVDi5u0YF9UkklalY9FfeB1fVy-KQ_aKb_O3RVkA&s\n",
            "https://encrypted-tbn0.gstatic.com/images?q=tbn:ANd9GcQond2HnFd4bKW-jjQE4fEgXVjgYOTVV15i54TFQpuxw-F_sH8Tma8rS_vghkc&s\n",
            "https://encrypted-tbn0.gstatic.com/images?q=tbn:ANd9GcTKex94bi2GmU5HoaauZtsPSQ3TnAgvJaHHjyV-n7ArBOA9EWS3j_n-YbLwBw&s\n",
            "https://encrypted-tbn0.gstatic.com/images?q=tbn:ANd9GcQOQ6B_eHl1OKl6J6Dizoyl_ufWw0MrWQxd7u32bL4CrCivXKeXzjc5A8dL2Ic&s\n",
            "https://encrypted-tbn0.gstatic.com/images?q=tbn:ANd9GcQbR8HgGuZAgMvjF7OSbu33sMawNP4Yi3iw_8mIemQE4ba-xcB_5RBboEcs4QI&s\n",
            "https://encrypted-tbn0.gstatic.com/images?q=tbn:ANd9GcTCWmhgLTO2MPt1U6kNA1J4QgDrJ4yRgt7zKYlOGdceg7tsbCMrvRqfnKpRxg&s\n",
            "https://encrypted-tbn0.gstatic.com/images?q=tbn:ANd9GcQeilHum7FpKJ9ohdd1VxPxuqJK1G7lWMweOsDowBFVsP8Wi8Qn4Vb9QwnqDw&s\n",
            "https://encrypted-tbn0.gstatic.com/images?q=tbn:ANd9GcRojHJtrVYXl2ycV1oKB11kNzbgtsHJuJAW6MmTXJus_eQtaQOA_xquAyWy9pQ&s\n",
            "https://encrypted-tbn0.gstatic.com/images?q=tbn:ANd9GcSPOTyreztwlsy864jVBrMXZXFY06HB-stdPCrxH2-9yABZJvNF5VXzx0QPmQ&s\n",
            "https://encrypted-tbn0.gstatic.com/images?q=tbn:ANd9GcSDa6NIVGeCR7bERBTLY_edoPfdU--XtIV0mdW-F377r9us1DGq5GZ-W9aOoMQ&s\n",
            "https://encrypted-tbn0.gstatic.com/images?q=tbn:ANd9GcRXVL__LBXXZ_fvYSeeWkW-kVX2kmTXEaRSE-NJTYFomqI_pPp4CX5uPvXSMwU&s\n",
            "https://encrypted-tbn0.gstatic.com/images?q=tbn:ANd9GcT3m1MM0YDAXyIZMwiuckyswPH4907f9YEYsnIkOLdWOktHGcTgly1xhrwh49w&s\n",
            "https://encrypted-tbn0.gstatic.com/images?q=tbn:ANd9GcQicaxSBoJH5L0rIHH2iTjMv1ba8kETAQxI2rW9gNcR4L0wy7GwDj-j_jHMwVs&s\n",
            "https://encrypted-tbn0.gstatic.com/images?q=tbn:ANd9GcRb6aL5Ji-In-7SmiATP00qFEe8ljMIYk3kCpp5E62q92rkhJjQOEnvBji-JA&s\n"
          ]
        }
      ],
      "source": [
        "import requests \n",
        "from bs4 import BeautifulSoup \n",
        "    \n",
        "def getdata(url): \n",
        "    r = requests.get(url) \n",
        "    return r.text \n",
        "    \n",
        "htmldata = getdata(\"https://www.google.com/search?q=google&rlz=1C1CHBD_esCO1031CO1031&sxsrf=ALiCzsZ3NGqcfpnJtSKmPuwKIaUnArWI_g:1669353029673&source=lnms&tbm=isch&sa=X&ved=2ahUKEwi6kNrSyMj7AhUGQTABHTCGDkcQ_AUoAXoECAIQAw&biw=977&bih=747&dpr=1/\") \n",
        "soup = BeautifulSoup(htmldata, 'html.parser') \n",
        "for item in soup.find_all('img'):\n",
        "    print(item['src'])"
      ]
    },
    {
      "cell_type": "code",
      "source": [
        "import urllib.request\n",
        "from bs4 import BeautifulSoup as soup\n",
        "import time\n",
        "\n",
        "def lambda_handler(event, context):\n",
        "    urls = [\n",
        "        'https://www.yellowpages.com/search?search_terms=fitness&geo_location_terms=New%20York%2C%20NY&page=1',\n",
        "        'https://www.yellowpages.com/search?search_terms=fitness&geo_location_terms=New%20York%2C%20NY&page=2',\n",
        "        'https://www.yellowpages.com/search?search_terms=fitness&geo_location_terms=New%20York%2C%20NY&page=3',\n",
        "        'https://www.yellowpages.com/search?search_terms=fitness&geo_location_terms=New%20York%2C%20NY&page=4',\n",
        "        \n",
        "    ]\n",
        "    for url in urls:\n",
        "        headers = { 'User-Agent' : 'Mozilla/5.0 (Windows NT 6.1; Win64; x64)' }\n",
        "        request = urllib.request.Request(url, headers=headers)\n",
        "        response = urllib.request.urlopen(request)\n",
        "        page_html = response.read()\n",
        "        time.sleep(5)\n",
        "        page_soup = soup(page_html, \"html.parser\")\n",
        "        for link in page_soup.find_all('a', class_= \"track-visit-website\",):\n",
        "            print(link.get('href', \"a\"))"
      ],
      "metadata": {
        "id": "vWKpPw14PoXp"
      },
      "execution_count": 6,
      "outputs": []
    }
  ]
}